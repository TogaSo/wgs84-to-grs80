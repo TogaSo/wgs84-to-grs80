{
 "cells": [
  {
   "cell_type": "code",
   "execution_count": null,
   "id": "65cdcd3c",
   "metadata": {},
   "outputs": [],
   "source": [
    "#*******************************************************************#\n",
    "# Bu bir Kartezyenden Elips Koordinatlara Dönüşümdür(wgs84 to grs80).\n",
    "#\n",
    "#İNPUTLAR:\n",
    "#inputlara gerekli x,y,z değerini girmelisiniz.\n",
    "#\n",
    "#\n",
    "#OUTPUTLAR:\n",
    "#Output size Elips Koordinatları verir\n",
    "#\n",
    "#\n",
    "#\n",
    "#Yazar: TogaSo - 8.12.2022\n",
    "#\n",
    "#*******************************************************************#"
   ]
  },
  {
   "cell_type": "code",
   "execution_count": 1,
   "id": "e3037450",
   "metadata": {},
   "outputs": [
    {
     "name": "stdout",
     "output_type": "stream",
     "text": [
      "x: 12\n",
      "y: 12\n",
      "z: 12\n",
      "fi = 89.97715712371857 degrees, lamda = 45.0 degrees, h = -6357027.106834879 meters\n"
     ]
    }
   ],
   "source": [
    "import math\n",
    "import pandas as pd\n",
    "xx = float(input(\"x: \"))\n",
    "yy = float(input(\"y: \"))\n",
    "zz = float(input(\"z: \"))\n",
    "def xyz2blh(x, y, z):\n",
    "    a = 6378137.0\n",
    "    b = 6356752.314245\n",
    "    kare2 = 1.0 - (b**2)/(a**2)\n",
    "\n",
    "    lamda = math.atan2(y, x)\n",
    "    p = math.atan2(z, math.sqrt(x**2 + y**2))\n",
    "    \n",
    "    while True:\n",
    "        p1 = math.atan2((z + kare2*b*math.sin(p)), math.sqrt(x**2 + y**2))\n",
    "        h1 = math.sqrt(x**2 + y**2)/math.cos(p1) - a/math.sqrt(1 - kare2*(math.sin(p1)**2))\n",
    "        if abs(p1 - p) < 1e-12:\n",
    "            break\n",
    "        p = p1\n",
    "        h = h1\n",
    "       \n",
    "    b = math.degrees(p1)\n",
    "    l = math.degrees(lamda)\n",
    "    h = h1\n",
    "    return (b, l, h)\n",
    "\n",
    "\n",
    "b, l, h = xyz2blh(xx, yy, zz)\n",
    "\n",
    "print(f'fi = {b:} degrees, lamda = {l:} degrees, h = {h:} meters')"
   ]
  },
  {
   "cell_type": "code",
   "execution_count": null,
   "id": "960d76dd",
   "metadata": {},
   "outputs": [],
   "source": []
  }
 ],
 "metadata": {
  "kernelspec": {
   "display_name": "Python 3 (ipykernel)",
   "language": "python",
   "name": "python3"
  },
  "language_info": {
   "codemirror_mode": {
    "name": "ipython",
    "version": 3
   },
   "file_extension": ".py",
   "mimetype": "text/x-python",
   "name": "python",
   "nbconvert_exporter": "python",
   "pygments_lexer": "ipython3",
   "version": "3.9.13"
  }
 },
 "nbformat": 4,
 "nbformat_minor": 5
}
